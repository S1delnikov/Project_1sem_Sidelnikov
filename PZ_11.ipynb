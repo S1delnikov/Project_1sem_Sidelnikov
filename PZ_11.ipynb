{
  "cells": [
    {
      "cell_type": "markdown",
      "metadata": {
        "id": "view-in-github",
        "colab_type": "text"
      },
      "source": [
        "<a href=\"https://colab.research.google.com/github/S1delnikov/Project_1sem_Sidelnikov/blob/master/PZ_11.ipynb\" target=\"_parent\"><img src=\"https://colab.research.google.com/assets/colab-badge.svg\" alt=\"Open In Colab\"/></a>"
      ]
    },
    {
      "cell_type": "markdown",
      "source": [
        " Проверить истинность высказывания: \"Среди трёх данных целых чисел есть хотя бы одна пара взаимно противоположных\""
      ],
      "metadata": {
        "id": "JDXtx3ZGcbos"
      }
    },
    {
      "cell_type": "code",
      "source": [
        "a, b, c = input('Введите первое число: '), input('Введите второе число: '), input('Введите третье число: ')\n",
        "try:\n",
        "    a = int(a)\n",
        "except ValueError:\n",
        "    print('Неправильно ввели первое число')\n",
        "try:\n",
        "    b = int(b)\n",
        "except ValueError:\n",
        "    print('Неправильно ввели второе число')\n",
        "try:\n",
        "    c = int(c)\n",
        "except ValueError:\n",
        "    print('Неправильно ввели третье число')\n",
        "if (a == b * -1):\n",
        "    print('Истинно')\n",
        "elif(a == c * -1):\n",
        "    print('Истинно')\n",
        "elif (b == a * -1):\n",
        "    print('Истинно')\n",
        "elif(b == c * -1):\n",
        "    print('Истинно')\n",
        "elif (c == a * -1):\n",
        "    print('Истинно')\n",
        "elif(c == b * -1):\n",
        "    print('Истинно')\n",
        "else:\n",
        "    print('Ложно')"
      ],
      "metadata": {
        "id": "U9ncOtFycf_U",
        "outputId": "94f52076-6c49-4d2a-d567-646890dc0b8e",
        "colab": {
          "base_uri": "https://localhost:8080/"
        }
      },
      "execution_count": 1,
      "outputs": [
        {
          "output_type": "stream",
          "name": "stdout",
          "text": [
            "Введите первое число: 123\n",
            "Введите второе число: 324\n",
            "Введите третье число: 345\n",
            "Ложно\n"
          ]
        }
      ]
    },
    {
      "cell_type": "markdown",
      "source": [
        " Дано вещественное число X и целое число N(>0). Найти значение  выражения 1 - X^2/(2!) + X^4/(4!) - ... + (-1)^n - X^(2*N)/((2-N)!) (N! = 12 ... N) Полученное число является приближённым значением функции cos в точке X."
      ],
      "metadata": {
        "id": "tfBBlMQ5cj2E"
      }
    },
    {
      "cell_type": "code",
      "source": [
        "n = input('Введите число n: ')\n",
        "i = 1\n",
        "k = 1\n",
        "v = 0\n",
        "cos = 0\n",
        "fact = 1\n",
        "g = 2\n",
        "while type(n) != int:\n",
        "    try:\n",
        "        n = int(n)\n",
        "    except ValueError:\n",
        "        print('Введите целое число!')\n",
        "        n = input('n: ')\n",
        "x = input('Введите число x: ')\n",
        "while type(x) != float:\n",
        "    try:\n",
        "        x = float(x)\n",
        "    except ValueError:\n",
        "        print('Введите вещественное число!')\n",
        "        x = input('x: ')\n",
        "while i <= n:\n",
        "    v += 2\n",
        "    while k <= g:\n",
        "        fact *= k\n",
        "        k += 1\n",
        "    g += 2\n",
        "    m = x ** v / fact\n",
        "    if i % 2 == 1:\n",
        "        cos = cos + m\n",
        "    else:\n",
        "        cos = cos - m\n",
        "    i += 1\n",
        "    d = 1 - cos\n",
        "print('Приближённое значение функции cos в точке x: ', d)"
      ],
      "metadata": {
        "id": "RgziXXw_ctGM",
        "outputId": "893d6698-2908-4ccf-dd8e-74588144248a",
        "colab": {
          "base_uri": "https://localhost:8080/"
        }
      },
      "execution_count": 2,
      "outputs": [
        {
          "output_type": "stream",
          "name": "stdout",
          "text": [
            "Введите число n: 12\n",
            "Введите число x: 213\n",
            "Приближённое значение функции cos в точке x:  1.2109951440978594e+32\n"
          ]
        }
      ]
    },
    {
      "cell_type": "markdown",
      "source": [
        "Составить функцию, которая напечатает 40 любых символов."
      ],
      "metadata": {
        "id": "W-WB1axJcxzT"
      }
    },
    {
      "cell_type": "code",
      "source": [
        "a = input('Введите любой символ: ')\n",
        "def spam(a, b = []):\n",
        "    k = 1\n",
        "    while k<=40:\n",
        "        b.append(a)\n",
        "        k+=1\n",
        "    print(b)\n",
        "spam(a)"
      ],
      "metadata": {
        "id": "vupPn7Imc2e8",
        "outputId": "ff3b802a-c27a-4974-dec1-21c4823d3f8f",
        "colab": {
          "base_uri": "https://localhost:8080/"
        }
      },
      "execution_count": 3,
      "outputs": [
        {
          "output_type": "stream",
          "name": "stdout",
          "text": [
            "Введите любой символ: sad\n",
            "['sad', 'sad', 'sad', 'sad', 'sad', 'sad', 'sad', 'sad', 'sad', 'sad', 'sad', 'sad', 'sad', 'sad', 'sad', 'sad', 'sad', 'sad', 'sad', 'sad', 'sad', 'sad', 'sad', 'sad', 'sad', 'sad', 'sad', 'sad', 'sad', 'sad', 'sad', 'sad', 'sad', 'sad', 'sad', 'sad', 'sad', 'sad', 'sad', 'sad']\n"
          ]
        }
      ]
    }
  ],
  "metadata": {
    "colab": {
      "collapsed_sections": [],
      "name": "Добро пожаловать в Colaboratory!",
      "toc_visible": true,
      "provenance": [],
      "include_colab_link": true
    },
    "kernelspec": {
      "display_name": "Python 3",
      "name": "python3"
    }
  },
  "nbformat": 4,
  "nbformat_minor": 0
}